{
 "cells": [
  {
   "cell_type": "markdown",
   "metadata": {},
   "source": [
    "# Exercises"
   ]
  },
  {
   "cell_type": "markdown",
   "metadata": {},
   "source": [
    "### 1) Create a program that allows a user to continue to add people to an address book until the user quits. Once the user quits, break out of the loop and print out the name and address of everyone in the address book"
   ]
  },
  {
   "cell_type": "markdown",
   "metadata": {},
   "source": [
    "###### Steps\n",
    "1. Create a function that will ask user for name and addresses and stores them in a dictionary\n",
    "2. Define an empty dictionary with which to work (global or local variable?)\n",
    "3. Begin a loop that will continue to ask a user for information until the user \"quits\"\n",
    "4. If the user does not quit, ask for a name and address and store the variables into variables\n",
    "5. Add information to the dictionary with name as the key and address as the value\n",
    "6. If the user does quit, end the loop\n",
    "7. Print out the information from the dictionary in a formatted way\n",
    "8. Execute/Call the function"
   ]
  },
  {
   "cell_type": "code",
   "execution_count": null,
   "metadata": {},
   "outputs": [],
   "source": []
  },
  {
   "cell_type": "code",
   "execution_count": 4,
   "metadata": {
    "scrolled": true
   },
   "outputs": [],
   "source": [
    "from IPython.display import clear_output\n",
    "\n",
    "'''\n",
    "a program that allows a user to continue to add people to an address book until the user quits.\n",
    "Once the user quits, break out of the loop and print out the name and address\n",
    "of everyone in the address book\n",
    "'''\n",
    "\n",
    "def name_add():\n",
    "    db = {}\n",
    "    while True:\n",
    "        ask = input('Do you want to enter another name and address? if no type n or enter clear to clear the console\\n Otherwise enter full name in the box below ')\n",
    "        if ask == 'n':\n",
    "            break\n",
    "        elif ask == 'clear':\n",
    "            clear_output()\n",
    "        else:\n",
    "            key = ask\n",
    "            value = input(\"Enter the address \")\n",
    "            db[key] = value\n",
    "            #print(db)\n",
    "    return db\n",
    "        \n",
    "            \n"
   ]
  },
  {
   "cell_type": "code",
   "execution_count": 8,
   "metadata": {},
   "outputs": [
    {
     "name": "stdout",
     "output_type": "stream",
     "text": [
      "Do you want to enter another name and address? if no type n or enter clear to clear the console\n",
      " Otherwise enter full name in the box below n\n"
     ]
    }
   ],
   "source": [
    "return_db = name_add()\n",
    "\n",
    "for key, value in return_db.items():\n",
    "    print(f\"The full name is {key} and the addres is {value}\")\n"
   ]
  },
  {
   "cell_type": "markdown",
   "metadata": {},
   "source": [
    "### 2) Best Time to Meet"
   ]
  },
  {
   "cell_type": "markdown",
   "metadata": {},
   "source": [
    "Billy is trying to figure out if there is a time that he and his team can meet to work on the project. His three teammates each give him a list of times they are available ('HH:MM' 24-hour). Create a function that will take in an original list plus any number of lists of teammate's available times (*remember \\*args*) and return a list of times where everyone can meet."
   ]
  },
  {
   "cell_type": "code",
   "execution_count": 11,
   "metadata": {},
   "outputs": [
    {
     "name": "stdout",
     "output_type": "stream",
     "text": [
      " The times all four people are available is: {'12:00', '14:30'}\n"
     ]
    }
   ],
   "source": [
    "person1 = ['09:00', '10:30', '11:30', '12:00', '13:00', '14:30']\n",
    "person2 = ['09:30', '10:00', '10:30', '12:00', '14:30', '16:00']\n",
    "person3 = ['09:00', '09:30', '11:00', '11:30', '12:00', '13:30', '14:30', '15:00']\n",
    "person4 = ['11:00', '11:30', '12:00', '14:00', '14:30', '16:30', '17:00']\n",
    "# Available Times: '12:00' and '14:30'\n",
    "# Output can be a list, set, tuple, or string\n",
    "\n",
    "def avail_time():\n",
    "    tuple_to_be_put_in_set_to_return = ()\n",
    "    # Convert the list to a tuple\n",
    "    person1_tuple = tuple(person1)\n",
    "    person2_tuple = tuple(person2)\n",
    "    person3_tuple = tuple(person3)\n",
    "    person4_tuple = tuple(person4)\n",
    "    # Convert the tuples to sets\n",
    "    person1_set = set(person1_tuple)\n",
    "    person2_set = set(person2_tuple)\n",
    "    person3_set = set(person3_tuple)\n",
    "    person4_set = set(person4_tuple)\n",
    "\n",
    "    intersection_result = person1_set & person2_set & person3_set & person4_set\n",
    "    return intersection_result\n",
    "\n",
    "    \n",
    "print(f\" The times all four people are available is: {avail_time()}\")    \n",
    "        "
   ]
  },
  {
   "cell_type": "code",
   "execution_count": null,
   "metadata": {},
   "outputs": [],
   "source": []
  },
  {
   "cell_type": "code",
   "execution_count": null,
   "metadata": {},
   "outputs": [],
   "source": []
  }
 ],
 "metadata": {
  "kernelspec": {
   "display_name": "Python 3 (ipykernel)",
   "language": "python",
   "name": "python3"
  },
  "language_info": {
   "codemirror_mode": {
    "name": "ipython",
    "version": 3
   },
   "file_extension": ".py",
   "mimetype": "text/x-python",
   "name": "python",
   "nbconvert_exporter": "python",
   "pygments_lexer": "ipython3",
   "version": "3.9.7"
  }
 },
 "nbformat": 4,
 "nbformat_minor": 2
}
